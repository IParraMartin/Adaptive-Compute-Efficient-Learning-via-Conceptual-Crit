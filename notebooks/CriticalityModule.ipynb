{
 "cells": [
  {
   "cell_type": "code",
   "execution_count": 1,
   "id": "c78fc5e2",
   "metadata": {},
   "outputs": [],
   "source": [
    "import torch\n",
    "import torch.nn as nn\n",
    "import torch.nn.functional as F\n",
    "import torch.optim as optim\n",
    "from torch.utils.data import DataLoader\n",
    "from datasets import load_dataset\n",
    "from transformers import AutoTokenizer\n",
    "import numpy as np\n",
    "import matplotlib.pyplot as plt"
   ]
  },
  {
   "cell_type": "code",
   "execution_count": 2,
   "id": "806badfb",
   "metadata": {},
   "outputs": [],
   "source": [
    "def set_seed(seed):\n",
    "    torch.manual_seed(seed)\n",
    "    torch.backends.cudnn.benchmark = False\n",
    "    torch.backends.cudnn.deterministic = True"
   ]
  },
  {
   "cell_type": "code",
   "execution_count": 3,
   "id": "a4df3afe",
   "metadata": {},
   "outputs": [],
   "source": [
    "# Load AG News dataset\n",
    "dataset = load_dataset(\"ag_news\")\n",
    "tokenizer = AutoTokenizer.from_pretrained(\"bert-base-uncased\")\n",
    "\n",
    "# Tokenize function\n",
    "def tokenize_batch(batch):\n",
    "    return tokenizer(batch[\"text\"], padding=\"max_length\", truncation=True, max_length=128)\n",
    "\n",
    "dataset = dataset.map(tokenize_batch, batched=True)\n",
    "dataset.set_format(type=\"torch\", columns=[\"input_ids\", \"attention_mask\", \"label\"])\n",
    "\n",
    "train_loader = DataLoader(dataset[\"train\"], batch_size=64, shuffle=True)\n",
    "test_loader = DataLoader(dataset[\"test\"], batch_size=64)"
   ]
  },
  {
   "cell_type": "code",
   "execution_count": 4,
   "id": "3b2a4881-615c-4ee8-b127-5c43e98971a1",
   "metadata": {},
   "outputs": [],
   "source": [
    "class LSTMClassifier(nn.Module):\n",
    "    def __init__(self, vocab_size, embed_dim, hidden_dim, num_classes):\n",
    "        super().__init__()\n",
    "        self.embed = nn.Embedding(vocab_size, embed_dim, padding_idx=0)\n",
    "        self.lstm = nn.LSTM(embed_dim, hidden_dim, batch_first=True)\n",
    "        self.fc = nn.Linear(hidden_dim, num_classes)\n",
    "\n",
    "    def forward(self, x):\n",
    "        x = self.embed(x)                    # [batch, seq, embed_dim]\n",
    "        _, (h, _) = self.lstm(x)             # h: [1, batch, hidden_dim]\n",
    "        return self.fc(h[-1])                # [batch, num_classes]\n",
    "\n",
    "vocab_size = tokenizer.vocab_size\n",
    "model = LSTMClassifier(vocab_size, embed_dim=128, hidden_dim=128, num_classes=4)"
   ]
  },
  {
   "cell_type": "code",
   "execution_count": 5,
   "id": "cd5ec4e8-876a-463c-85b6-c031905d4eda",
   "metadata": {},
   "outputs": [
    {
     "name": "stdout",
     "output_type": "stream",
     "text": [
      "Training on: cuda\n",
      "Epoch 1, Loss: 1.3795, Test loss: 1.3680\n",
      "Epoch 2, Loss: 1.3626, Test loss: 1.3641\n",
      "Epoch 3, Loss: 1.3604, Test loss: 1.3621\n",
      "Epoch 4, Loss: 1.3564, Test loss: 1.3573\n",
      "Epoch 5, Loss: 0.7236, Test loss: 0.3546\n"
     ]
    }
   ],
   "source": [
    "criterion = nn.CrossEntropyLoss() # try label smoothing here\n",
    "optimizer = optim.Adam(model.parameters(), lr=1e-3)\n",
    "\n",
    "# Training loop\n",
    "\n",
    "# We probably want to add a CUDA availability condition here\n",
    "# just to make sure those users that have a \n",
    "# GPU can run this faster\n",
    "device = torch.device(\"cuda\" if torch.cuda.is_available() else \"cpu\")\n",
    "print(f\"Training on: {device}\")\n",
    "\n",
    "for epoch in range(5):  # train 3 epochs (small but enough to test)\n",
    "    model.to(device)\n",
    "    model.train()\n",
    "    total_loss = 0\n",
    "    test_loss = 0\n",
    "    for batch in train_loader:\n",
    "        input_ids, labels = batch[\"input_ids\"], batch[\"label\"]\n",
    "        input_ids, labels = input_ids.to(device), labels.to(device)\n",
    "        outputs = model(input_ids)\n",
    "        loss = criterion(outputs, labels)\n",
    "\n",
    "        optimizer.zero_grad()\n",
    "        loss.backward()\n",
    "        optimizer.step()\n",
    "        total_loss += loss.item()\n",
    "\n",
    "    for batch in test_loader:\n",
    "        model.eval()\n",
    "        with torch.no_grad():\n",
    "            input_ids, labels = batch[\"input_ids\"], batch[\"label\"]\n",
    "            input_ids, labels = input_ids.to(device), labels.to(device)\n",
    "            outputs = model(input_ids)\n",
    "            loss = criterion(outputs, labels)\n",
    "            test_loss += loss.item()\n",
    "    \n",
    "    print(f\"Epoch {epoch+1}, Loss: {total_loss/len(train_loader):.4f}, Test loss: {test_loss/len(test_loader):.4f}\")"
   ]
  },
  {
   "cell_type": "code",
   "execution_count": 6,
   "id": "4fbd8c90-b820-4bdb-9610-f176b91ea5ed",
   "metadata": {},
   "outputs": [],
   "source": [
    "def compute_entropy(logits):\n",
    "    probs = F.softmax(logits, dim=1)\n",
    "    entropy = -torch.sum(probs * torch.log(probs + 1e-8), dim=1)\n",
    "    norm_entropy = entropy / torch.log(torch.tensor(probs.size(1), dtype=torch.float))\n",
    "    return norm_entropy  # [0,1]\n",
    "\n",
    "model.eval()\n",
    "all_entropies, all_labels, all_inputs = [], [], []\n",
    "with torch.no_grad():\n",
    "    for batch in test_loader:\n",
    "        logits = model(batch[\"input_ids\"].to(device))\n",
    "        norm_entropy = compute_entropy(logits)\n",
    "        all_entropies.extend(norm_entropy.tolist())\n",
    "        all_labels.extend(batch[\"label\"].tolist())\n",
    "        all_inputs.extend(batch[\"input_ids\"].tolist())"
   ]
  },
  {
   "cell_type": "code",
   "execution_count": 7,
   "id": "d8eea184-7dd2-49e8-8262-2cd8beac0c88",
   "metadata": {},
   "outputs": [],
   "source": [
    "def bucketize(e):\n",
    "    if e < 0.3: return 0  # very easy\n",
    "    elif e < 0.6: return 1  # moderate\n",
    "    elif e < 0.8: return 2  # hard\n",
    "    else: return 3  # very hard\n",
    "\n",
    "criticality_labels = [bucketize(e) for e in all_entropies]"
   ]
  },
  {
   "cell_type": "code",
   "execution_count": 8,
   "id": "b00dfe0c-fc9f-4a1c-b2c3-2e2ac159d4e2",
   "metadata": {},
   "outputs": [],
   "source": [
    "class CriticalityModule(nn.Module):\n",
    "    def __init__(self, vocab_size, embed_dim, hidden_dim, num_classes=4):\n",
    "        super().__init__()\n",
    "        self.embed = nn.Embedding(vocab_size, embed_dim, padding_idx=0)\n",
    "        self.fc1 = nn.Linear(embed_dim, hidden_dim)\n",
    "        self.fc2 = nn.Linear(hidden_dim, num_classes)\n",
    "\n",
    "    def forward(self, x):\n",
    "        x = self.embed(x)              # [batch, seq, embed_dim]\n",
    "        x = torch.mean(x, dim=1)       # average pooling over sequence\n",
    "        x = F.relu(self.fc1(x))\n",
    "        return self.fc2(x)             # logits over 4 difficulty classes\n",
    "\n",
    "criticality_model = CriticalityModule(vocab_size, embed_dim=128, hidden_dim=64)\n"
   ]
  },
  {
   "cell_type": "code",
   "execution_count": 9,
   "id": "b6e4b26a-9ac1-4a10-b305-e1e1f70d6d4c",
   "metadata": {},
   "outputs": [
    {
     "name": "stdout",
     "output_type": "stream",
     "text": [
      "[Criticality Module] Epoch 1, Loss: 0.9945\n",
      "[Criticality Module] Epoch 2, Loss: 0.8105\n",
      "[Criticality Module] Epoch 3, Loss: 0.7582\n",
      "[Criticality Module] Epoch 4, Loss: 0.6885\n",
      "[Criticality Module] Epoch 5, Loss: 0.6149\n",
      "[Criticality Module] Epoch 6, Loss: 0.5475\n",
      "[Criticality Module] Epoch 7, Loss: 0.4785\n",
      "[Criticality Module] Epoch 8, Loss: 0.4115\n",
      "[Criticality Module] Epoch 9, Loss: 0.3454\n",
      "[Criticality Module] Epoch 10, Loss: 0.2855\n",
      "[Criticality Module] Epoch 11, Loss: 0.2323\n",
      "[Criticality Module] Epoch 12, Loss: 0.1863\n",
      "[Criticality Module] Epoch 13, Loss: 0.1501\n",
      "[Criticality Module] Epoch 14, Loss: 0.1210\n",
      "[Criticality Module] Epoch 15, Loss: 0.0982\n"
     ]
    }
   ],
   "source": [
    "#  dataset for criticality classifier\n",
    "from torch.utils.data import TensorDataset\n",
    "\n",
    "inputs_tensor = torch.tensor(all_inputs)\n",
    "labels_tensor = torch.tensor(criticality_labels)\n",
    "crit_dataset = TensorDataset(inputs_tensor, labels_tensor)\n",
    "crit_loader = DataLoader(crit_dataset, batch_size=64, shuffle=True)\n",
    "\n",
    "crit_criterion = nn.CrossEntropyLoss()\n",
    "crit_optimizer = optim.Adam(criticality_model.parameters(), lr=1e-3)\n",
    "\n",
    "for epoch in range(15):\n",
    "    criticality_model.train()\n",
    "    total_loss = 0\n",
    "    for x, y in crit_loader:\n",
    "        logits = criticality_model(x)\n",
    "        loss = crit_criterion(logits, y)\n",
    "\n",
    "        crit_optimizer.zero_grad()\n",
    "        loss.backward()\n",
    "        crit_optimizer.step()\n",
    "        total_loss += loss.item()\n",
    "    print(f\"[Criticality Module] Epoch {epoch+1}, Loss: {total_loss/len(crit_loader):.4f}\")\n"
   ]
  },
  {
   "cell_type": "code",
   "execution_count": 10,
   "id": "517f4f8f-5fc6-453b-9546-a75598cb4662",
   "metadata": {},
   "outputs": [
    {
     "name": "stdout",
     "output_type": "stream",
     "text": [
      "Criticality Module Accuracy: 0.98\n"
     ]
    },
    {
     "data": {
      "image/png": "[encoded data removed]",
      "text/plain": [
       "<Figure size 640x480 with 1 Axes>"
      ]
     },
     "metadata": {},
     "output_type": "display_data"
    }
   ],
   "source": [
    "criticality_model.eval()\n",
    "correct, total = 0, 0\n",
    "with torch.no_grad():\n",
    "    for x, y in crit_loader:\n",
    "        logits = criticality_model(x)\n",
    "        preds = torch.argmax(logits, dim=1)\n",
    "        correct += (preds == y).sum().item()\n",
    "        total += y.size(0)\n",
    "\n",
    "print(f\"Criticality Module Accuracy: {correct/total:.2f}\")\n",
    "\n",
    "\n",
    "plt.hist(all_entropies, bins=50)\n",
    "plt.xlabel(\"Normalized Entropy (Criticality Score)\")\n",
    "plt.ylabel(\"Count\")\n",
    "plt.title(\"Entropy Distribution on AG News Test Set\")\n",
    "plt.show()\n"
   ]
  },
  {
   "cell_type": "code",
   "execution_count": 11,
   "id": "cbb16d7c-b417-4d93-b23a-bcd360e0010f",
   "metadata": {},
   "outputs": [],
   "source": [
    "def preprocess_text(text):\n",
    "    tokens = tokenizer(text, padding=\"max_length\", truncation=True, max_length=128, return_tensors=\"pt\")\n",
    "    return tokens[\"input_ids\"].to(device), tokens[\"attention_mask\"]\n",
    "\n",
    "def get_entropy_criticality(text, model):\n",
    "    input_ids, _ = preprocess_text(text)\n",
    "    model.to(device)\n",
    "    with torch.no_grad():\n",
    "        logits = model(input_ids)\n",
    "        probs = F.softmax(logits, dim=1)\n",
    "        entropy = -torch.sum(probs * torch.log(probs + 1e-8), dim=1)\n",
    "        norm_entropy = entropy / torch.log(torch.tensor(probs.size(1), dtype=torch.float))\n",
    "    return norm_entropy.item()  # return as Python float\n",
    "\n",
    "def get_predicted_criticality(text, crit_model):\n",
    "    input_ids, _ = preprocess_text(text)\n",
    "    crit_model.to(device)  # Move criticality model to device\n",
    "    with torch.no_grad():\n",
    "        logits = crit_model(input_ids)\n",
    "        preds = torch.argmax(logits, dim=1).item()\n",
    "    labels = [\"Very Easy\", \"Moderate\", \"Hard\", \"Very Hard\"]\n",
    "    return labels[preds]\n",
    "\n",
    "\n",
    "def test_text(text):\n",
    "    true_score = get_entropy_criticality(text, model)  # from main LSTM\n",
    "    pred_bucket = get_predicted_criticality(text, criticality_model)  # from Criticality module\n",
    "    \n",
    "    print(f\"Input: {text}\")\n",
    "    print(f\"True criticality (entropy-based): {true_score:.3f}\")\n",
    "    print(f\"Predicted bucket (Criticality Module): {pred_bucket}\")\n",
    "    print()"
   ]
  },
  {
   "cell_type": "code",
   "execution_count": 12,
   "id": "f715f43b-a267-40fc-82e8-ad6efc994a13",
   "metadata": {},
   "outputs": [
    {
     "name": "stdout",
     "output_type": "stream",
     "text": [
      "Input: The stock market saw a major rally today after positive economic news.\n",
      "True criticality (entropy-based): 0.129\n",
      "Predicted bucket (Criticality Module): Moderate\n",
      "\n",
      "Input: AI beats human experts in medical diagnosis for rare diseases.\n",
      "True criticality (entropy-based): 0.732\n",
      "Predicted bucket (Criticality Module): Hard\n",
      "\n",
      "Input: asjdh ajksd ajdhs ajshd\n",
      "True criticality (entropy-based): 0.833\n",
      "Predicted bucket (Criticality Module): Very Easy\n",
      "\n",
      "Input: colorless green ideas sleep furiously\n",
      "True criticality (entropy-based): 0.746\n",
      "Predicted bucket (Criticality Module): Moderate\n",
      "\n"
     ]
    }
   ],
   "source": [
    "test_text(\"The stock market saw a major rally today after positive economic news.\")\n",
    "test_text(\"AI beats human experts in medical diagnosis for rare diseases.\")\n",
    "test_text(\"asjdh ajksd ajdhs ajshd\")  # nonsense, should be \"hard\"\n",
    "test_text(\"colorless green ideas sleep furiously\")  # nonsense, should be \"hard\""
   ]
  },
  {
   "cell_type": "code",
   "execution_count": null,
   "id": "ebe89d05-9f90-4e81-863e-eac20169dafe",
   "metadata": {},
   "outputs": [],
   "source": []
  }
 ],
 "metadata": {
  "kernelspec": {
   "display_name": "Python 3 (ipykernel)",
   "language": "python",
   "name": "python3"
  },
  "language_info": {
   "codemirror_mode": {
    "name": "ipython",
    "version": 3
   },
   "file_extension": ".py",
   "mimetype": "text/x-python",
   "name": "python",
   "nbconvert_exporter": "python",
   "pygments_lexer": "ipython3",
   "version": "3.13.3"
  }
 },
 "nbformat": 4,
 "nbformat_minor": 5
}
